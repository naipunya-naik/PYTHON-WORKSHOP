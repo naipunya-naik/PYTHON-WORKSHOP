{
  "nbformat": 4,
  "nbformat_minor": 0,
  "metadata": {
    "colab": {
      "name": "Day 1 Session 1 Exercises",
      "provenance": [],
      "authorship_tag": "ABX9TyO57vDHugC8pLg9ymAPnAWC",
      "include_colab_link": true
    },
    "kernelspec": {
      "name": "python3",
      "display_name": "Python 3"
    }
  },
  "cells": [
    {
      "cell_type": "markdown",
      "metadata": {
        "id": "view-in-github",
        "colab_type": "text"
      },
      "source": [
        "<a href=\"https://colab.research.google.com/github/naipunya-naik/PYTHON-WORKSHOP/blob/master/Day_1_Session_1_Exercises.ipynb\" target=\"_parent\"><img src=\"https://colab.research.google.com/assets/colab-badge.svg\" alt=\"Open In Colab\"/></a>"
      ]
    },
    {
      "cell_type": "markdown",
      "metadata": {
        "id": "U33v1-r7d2h5",
        "colab_type": "text"
      },
      "source": [
        "#\tFind the compound interest for the given p,n,r  (formula : p(1+n*r/100)n )\n"
      ]
    },
    {
      "cell_type": "code",
      "metadata": {
        "id": "5dUtl-gCeGX2",
        "colab_type": "code",
        "colab": {
          "base_uri": "https://localhost:8080/",
          "height": 136
        },
        "outputId": "15edb531-5233-4eb5-9623-5b18c1a77ec4"
      },
      "source": [
        "p = float(input(\"Enter the principle amount : \"))\n",
        "r = float(input(\"Enter the rate of interest : \"))\n",
        "t = float(input(\"Enter the time in the years: \"))\n",
        "\n",
        "# calculating compound interest\n",
        "cI =  p * (pow((1 + r / 100), t)) \n",
        "\n",
        "# printing the values\n",
        "print(\"Principle amount  : \", p)\n",
        "print(\"Interest rate     : \", r)\n",
        "print(\"Time in years     : \", t)\n",
        "print(\"compound Interest : \", cI)\n"
      ],
      "execution_count": 1,
      "outputs": [
        {
          "output_type": "stream",
          "text": [
            "Enter the principle amount : 100\n",
            "Enter the rate of interest : 2\n",
            "Enter the time in the years: 3\n",
            "Principle amount  :  100.0\n",
            "Interest rate     :  2.0\n",
            "Time in years     :  3.0\n",
            "compound Interest :  106.12080000000002\n"
          ],
          "name": "stdout"
        }
      ]
    },
    {
      "cell_type": "code",
      "metadata": {
        "id": "RhDAQ7By47QP",
        "colab_type": "code",
        "colab": {}
      },
      "source": [
        ""
      ],
      "execution_count": null,
      "outputs": []
    },
    {
      "cell_type": "markdown",
      "metadata": {
        "id": "WKbxUhUufDgM",
        "colab_type": "text"
      },
      "source": [
        "#2.\tConvert centigrade to farenheit( f= 9/5*c+32)\n"
      ]
    },
    {
      "cell_type": "code",
      "metadata": {
        "id": "ZfnWOQ0cf1kN",
        "colab_type": "code",
        "colab": {
          "base_uri": "https://localhost:8080/",
          "height": 51
        },
        "outputId": "08f978bc-5c30-40ef-e096-1c218ca604c6"
      },
      "source": [
        "Celsius = float(input(\"Enter temperature in Celsius: \"))\n",
        "fahrenheit = (celsius * 9/5) + 32\n",
        "print('%.2f Celsius is: %0.2f Fahrenheit' %(Celsius, fahrenheit))\n"
      ],
      "execution_count": 10,
      "outputs": [
        {
          "output_type": "stream",
          "text": [
            "Enter temperature in Celsius: 37\n",
            "37.00 Celsius is: 98.60 Fahrenheit\n"
          ],
          "name": "stdout"
        }
      ]
    },
    {
      "cell_type": "markdown",
      "metadata": {
        "id": "LDPYGHozgNUc",
        "colab_type": "text"
      },
      "source": [
        "#3.\tFind the greater of the two nos "
      ]
    },
    {
      "cell_type": "code",
      "metadata": {
        "id": "8Aj1EoXTgV5m",
        "colab_type": "code",
        "colab": {
          "base_uri": "https://localhost:8080/",
          "height": 68
        },
        "outputId": "a545d055-a6f2-4b81-8cb9-be91109280cc"
      },
      "source": [
        "# Python Program to find greater of two Numbers using if-else statements\n",
        "p= int(input(\"Enter the first number: \"))\n",
        "q = int(input(\"Enter the second number: \"))\n",
        "if(p >= q):\n",
        "  print(p,\" is greater \")\n",
        "else:\n",
        "  print(q,\" is greater\")"
      ],
      "execution_count": 6,
      "outputs": [
        {
          "output_type": "stream",
          "text": [
            "Enter the first number: 12\n",
            "Enter the second number: 5\n",
            "12  is greater \n"
          ],
          "name": "stdout"
        }
      ]
    },
    {
      "cell_type": "markdown",
      "metadata": {
        "id": "hY6LOGwCg1Dl",
        "colab_type": "text"
      },
      "source": [
        "#4.\tWrite a program for finding surface areas of cylinder and cone (2*PI*r*r*h, 1/3*PI*r*r*h) using function."
      ]
    },
    {
      "cell_type": "code",
      "metadata": {
        "id": "7OYc9nSBg6Sm",
        "colab_type": "code",
        "colab": {
          "base_uri": "https://localhost:8080/",
          "height": 102
        },
        "outputId": "5e4695c9-39bb-4e83-b111-31214687f1ab"
      },
      "source": [
        "import math \n",
        "pi = math.pi \n",
        "  \n",
        "# Function to calculate Volume of Cone \n",
        "def surfacearea (r, h):\n",
        "    return 2 * PI * r * r * h\n",
        "def surfacearea (r, s):\n",
        "    return pi * r * s + pi * r * r \n",
        "  \n",
        "\n",
        "radius = int(input(\"enter the radius\"))\n",
        "height = float(input(\"enter the height\")) \n",
        "slant_height =float(input(\"enter the slantheight\"))  \n",
        "print( \"Surface Area of cylinder :\", surfacearea(radius, height) ) \n",
        "print( \"Surface Area Of Cone : \", surfacearea(radius, slant_height) ) \n",
        "\n"
      ],
      "execution_count": 9,
      "outputs": [
        {
          "output_type": "stream",
          "text": [
            "enter the radius2\n",
            "enter the height2\n",
            "enter the slantheight4\n",
            "Surface Area of cylinder : 25.132741228718345\n",
            "Surface Area Of Cone :  37.69911184307752\n"
          ],
          "name": "stdout"
        }
      ]
    }
  ]
}