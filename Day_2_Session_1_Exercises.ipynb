{
  "nbformat": 4,
  "nbformat_minor": 0,
  "metadata": {
    "colab": {
      "name": "Day 2 Session 1 Exercises",
      "provenance": [],
      "include_colab_link": true
    },
    "kernelspec": {
      "name": "python3",
      "display_name": "Python 3"
    }
  },
  "cells": [
    {
      "cell_type": "markdown",
      "metadata": {
        "id": "view-in-github",
        "colab_type": "text"
      },
      "source": [
        "<a href=\"https://colab.research.google.com/github/naipunya-naik/PYTHON-WORKSHOP/blob/master/Day_2_Session_1_Exercises.ipynb\" target=\"_parent\"><img src=\"https://colab.research.google.com/assets/colab-badge.svg\" alt=\"Open In Colab\"/></a>"
      ]
    },
    {
      "cell_type": "markdown",
      "metadata": {
        "id": "NH6uaq-MqR8z",
        "colab_type": "text"
      },
      "source": [
        "\n",
        "#1. print multiples of 3 upto 200 using a list\n"
      ]
    },
    {
      "cell_type": "code",
      "metadata": {
        "id": "sz2A75cyqfHR",
        "colab_type": "code",
        "colab": {
          "base_uri": "https://localhost:8080/",
          "height": 88
        },
        "outputId": "537d9c8a-5e28-4a9c-8c4e-8f513013e425"
      },
      "source": [
        "l_range=int(input(\"Enter the lower range:\"))\n",
        "u_range=int(input(\"Enter the upper range:\"))\n",
        "a=[(x,x**3) for x in range(l_range,u_range+1)]\n",
        "print(a)\n"
      ],
      "execution_count": null,
      "outputs": [
        {
          "output_type": "stream",
          "text": [
            "Enter the lower range:3\n",
            "Enter the upper range:200\n",
            "[(3, 27), (4, 64), (5, 125), (6, 216), (7, 343), (8, 512), (9, 729), (10, 1000), (11, 1331), (12, 1728), (13, 2197), (14, 2744), (15, 3375), (16, 4096), (17, 4913), (18, 5832), (19, 6859), (20, 8000), (21, 9261), (22, 10648), (23, 12167), (24, 13824), (25, 15625), (26, 17576), (27, 19683), (28, 21952), (29, 24389), (30, 27000), (31, 29791), (32, 32768), (33, 35937), (34, 39304), (35, 42875), (36, 46656), (37, 50653), (38, 54872), (39, 59319), (40, 64000), (41, 68921), (42, 74088), (43, 79507), (44, 85184), (45, 91125), (46, 97336), (47, 103823), (48, 110592), (49, 117649), (50, 125000), (51, 132651), (52, 140608), (53, 148877), (54, 157464), (55, 166375), (56, 175616), (57, 185193), (58, 195112), (59, 205379), (60, 216000), (61, 226981), (62, 238328), (63, 250047), (64, 262144), (65, 274625), (66, 287496), (67, 300763), (68, 314432), (69, 328509), (70, 343000), (71, 357911), (72, 373248), (73, 389017), (74, 405224), (75, 421875), (76, 438976), (77, 456533), (78, 474552), (79, 493039), (80, 512000), (81, 531441), (82, 551368), (83, 571787), (84, 592704), (85, 614125), (86, 636056), (87, 658503), (88, 681472), (89, 704969), (90, 729000), (91, 753571), (92, 778688), (93, 804357), (94, 830584), (95, 857375), (96, 884736), (97, 912673), (98, 941192), (99, 970299), (100, 1000000), (101, 1030301), (102, 1061208), (103, 1092727), (104, 1124864), (105, 1157625), (106, 1191016), (107, 1225043), (108, 1259712), (109, 1295029), (110, 1331000), (111, 1367631), (112, 1404928), (113, 1442897), (114, 1481544), (115, 1520875), (116, 1560896), (117, 1601613), (118, 1643032), (119, 1685159), (120, 1728000), (121, 1771561), (122, 1815848), (123, 1860867), (124, 1906624), (125, 1953125), (126, 2000376), (127, 2048383), (128, 2097152), (129, 2146689), (130, 2197000), (131, 2248091), (132, 2299968), (133, 2352637), (134, 2406104), (135, 2460375), (136, 2515456), (137, 2571353), (138, 2628072), (139, 2685619), (140, 2744000), (141, 2803221), (142, 2863288), (143, 2924207), (144, 2985984), (145, 3048625), (146, 3112136), (147, 3176523), (148, 3241792), (149, 3307949), (150, 3375000), (151, 3442951), (152, 3511808), (153, 3581577), (154, 3652264), (155, 3723875), (156, 3796416), (157, 3869893), (158, 3944312), (159, 4019679), (160, 4096000), (161, 4173281), (162, 4251528), (163, 4330747), (164, 4410944), (165, 4492125), (166, 4574296), (167, 4657463), (168, 4741632), (169, 4826809), (170, 4913000), (171, 5000211), (172, 5088448), (173, 5177717), (174, 5268024), (175, 5359375), (176, 5451776), (177, 5545233), (178, 5639752), (179, 5735339), (180, 5832000), (181, 5929741), (182, 6028568), (183, 6128487), (184, 6229504), (185, 6331625), (186, 6434856), (187, 6539203), (188, 6644672), (189, 6751269), (190, 6859000), (191, 6967871), (192, 7077888), (193, 7189057), (194, 7301384), (195, 7414875), (196, 7529536), (197, 7645373), (198, 7762392), (199, 7880599), (200, 8000000)]\n"
          ],
          "name": "stdout"
        }
      ]
    },
    {
      "cell_type": "markdown",
      "metadata": {
        "id": "fubp3ELozLjw",
        "colab_type": "text"
      },
      "source": [
        "#2. print the nos only divisible by 5 and 7 between 1000 and 2000 using a list( both inclusive)\n"
      ]
    },
    {
      "cell_type": "code",
      "metadata": {
        "id": "eF4gFac4zYYV",
        "colab_type": "code",
        "colab": {
          "base_uri": "https://localhost:8080/",
          "height": 34
        },
        "outputId": "1fda0cd2-6fd3-43aa-d1dc-b3dd75ff131b"
      },
      "source": [
        "nl=[]\n",
        "for n in range(1000, 2000):\n",
        "    if (n%7==0) and (n%5==0):\n",
        "        nl.append(str(n))\n",
        "print (','.join(nl))"
      ],
      "execution_count": null,
      "outputs": [
        {
          "output_type": "stream",
          "text": [
            "1015,1050,1085,1120,1155,1190,1225,1260,1295,1330,1365,1400,1435,1470,1505,1540,1575,1610,1645,1680,1715,1750,1785,1820,1855,1890,1925,1960,1995\n"
          ],
          "name": "stdout"
        }
      ]
    },
    {
      "cell_type": "markdown",
      "metadata": {
        "id": "P6Mu1ReVl5PP",
        "colab_type": "text"
      },
      "source": [
        "#Add the n number of names in a list and print them alphabetically and reverse alphabetically.\n",
        "\n"
      ]
    },
    {
      "cell_type": "code",
      "metadata": {
        "id": "XLt0PTT_l9Qp",
        "colab_type": "code",
        "colab": {
          "base_uri": "https://localhost:8080/",
          "height": 51
        },
        "outputId": "5e9402f5-1fb1-4fd2-e5a2-41bbf68a7774"
      },
      "source": [
        " def reverse(string): \n",
        "    string = string[::-1] \n",
        "    return string \n",
        "  \n",
        "s = \"IamNaipunya\"\n",
        "  \n",
        "print (\"The original string  is : \",end=\"\") \n",
        "print (s) \n",
        "  \n",
        "print (\"The reversed string(using extended slice syntax) is : \",end=\"\") \n",
        "print (reverse(s)) \n"
      ],
      "execution_count": null,
      "outputs": [
        {
          "output_type": "stream",
          "text": [
            "The original string  is : IamNaipunya\n",
            "The reversed string(using extended slice syntax) is : aynupiaNmaI\n"
          ],
          "name": "stdout"
        }
      ]
    },
    {
      "cell_type": "markdown",
      "metadata": {
        "id": "leKYLyWxyUGQ",
        "colab_type": "text"
      },
      "source": [
        "#Print  perfect squares and divisible by 5 between 500 and 1000( (both inclusive) using list\n",
        "\n"
      ]
    },
    {
      "cell_type": "code",
      "metadata": {
        "id": "487QFnmhy6Rf",
        "colab_type": "code",
        "colab": {
          "base_uri": "https://localhost:8080/",
          "height": 71
        },
        "outputId": "37f237c9-25eb-45de-f807-01f88779bb7a"
      },
      "source": [
        "l=[x for x in range(500,int(input(\"enter n\"))+1)if x%5==0]\n",
        "print(l)"
      ],
      "execution_count": null,
      "outputs": [
        {
          "output_type": "stream",
          "text": [
            "enter n1500\n",
            "[500, 505, 510, 515, 520, 525, 530, 535, 540, 545, 550, 555, 560, 565, 570, 575, 580, 585, 590, 595, 600, 605, 610, 615, 620, 625, 630, 635, 640, 645, 650, 655, 660, 665, 670, 675, 680, 685, 690, 695, 700, 705, 710, 715, 720, 725, 730, 735, 740, 745, 750, 755, 760, 765, 770, 775, 780, 785, 790, 795, 800, 805, 810, 815, 820, 825, 830, 835, 840, 845, 850, 855, 860, 865, 870, 875, 880, 885, 890, 895, 900, 905, 910, 915, 920, 925, 930, 935, 940, 945, 950, 955, 960, 965, 970, 975, 980, 985, 990, 995, 1000, 1005, 1010, 1015, 1020, 1025, 1030, 1035, 1040, 1045, 1050, 1055, 1060, 1065, 1070, 1075, 1080, 1085, 1090, 1095, 1100, 1105, 1110, 1115, 1120, 1125, 1130, 1135, 1140, 1145, 1150, 1155, 1160, 1165, 1170, 1175, 1180, 1185, 1190, 1195, 1200, 1205, 1210, 1215, 1220, 1225, 1230, 1235, 1240, 1245, 1250, 1255, 1260, 1265, 1270, 1275, 1280, 1285, 1290, 1295, 1300, 1305, 1310, 1315, 1320, 1325, 1330, 1335, 1340, 1345, 1350, 1355, 1360, 1365, 1370, 1375, 1380, 1385, 1390, 1395, 1400, 1405, 1410, 1415, 1420, 1425, 1430, 1435, 1440, 1445, 1450, 1455, 1460, 1465, 1470, 1475, 1480, 1485, 1490, 1495, 1500]\n"
          ],
          "name": "stdout"
        }
      ]
    },
    {
      "cell_type": "markdown",
      "metadata": {
        "id": "vU4gzXzAzy6b",
        "colab_type": "text"
      },
      "source": [
        "\n",
        "#Calculate the Average of  the numbers in a List by getting the elements of list from keyboard .\n",
        "\n"
      ]
    },
    {
      "cell_type": "code",
      "metadata": {
        "id": "5oSynYDEz8B3",
        "colab_type": "code",
        "colab": {
          "base_uri": "https://localhost:8080/",
          "height": 85
        },
        "outputId": "f44a1177-aa18-44f6-d351-ffb1874ae767"
      },
      "source": [
        "n=int(input(\"Enter the number of elements to be inserted: \"))\n",
        "a=[]\n",
        "for i in range(0,n):\n",
        "    elem=int(input(\"Enter element: \"))\n",
        "    a.append(elem)\n",
        "avg=sum(a)/n\n",
        "print(\"Average of elements in the list\",round(avg,2))"
      ],
      "execution_count": null,
      "outputs": [
        {
          "output_type": "stream",
          "text": [
            "Enter the number of elements to be inserted: 2\n",
            "Enter element: 55\n",
            "Enter element: 88\n",
            "Average of elements in the list 71.5\n"
          ],
          "name": "stdout"
        }
      ]
    },
    {
      "cell_type": "markdown",
      "metadata": {
        "id": "uEdtYB4w0OXR",
        "colab_type": "text"
      },
      "source": [
        "#Print lists of odd,even and multiples of 5 numbers from 1 to 1000 using list comprehension"
      ]
    },
    {
      "cell_type": "code",
      "metadata": {
        "id": "e7dFni8w0UCp",
        "colab_type": "code",
        "colab": {
          "base_uri": "https://localhost:8080/",
          "height": 85
        },
        "outputId": "830bcd5b-3c80-440e-b87e-397e77c119e3"
      },
      "source": [
        "num = int(input(\"Enter a number: \"))  \n",
        "if (num % 2) == 0:  \n",
        "   print(\"{0} is Even number\".format(num))  \n",
        "else:  \n",
        "   print(\"{0} is Odd number\".format(num))\n",
        "l=[x for x in range(1,int(input(\"enter num\"))+1)if x%5==0]\n",
        "print(l)"
      ],
      "execution_count": null,
      "outputs": [
        {
          "output_type": "stream",
          "text": [
            "Enter a number: 50\n",
            "50 is Even number\n",
            "enter num45\n",
            "[5, 10, 15, 20, 25, 30, 35, 40, 45]\n"
          ],
          "name": "stdout"
        }
      ]
    },
    {
      "cell_type": "markdown",
      "metadata": {
        "id": "vi9JjxsCdeP6",
        "colab_type": "text"
      },
      "source": [
        "#Python Program to Create a List of Tuples with the First Element as the Number and Second Element as the Square of the Number "
      ]
    },
    {
      "cell_type": "code",
      "metadata": {
        "id": "QKxJKReoinJx",
        "colab_type": "code",
        "colab": {
          "base_uri": "https://localhost:8080/",
          "height": 88
        },
        "outputId": "b64a8f38-d060-420b-b8e5-edda273a13c1"
      },
      "source": [
        "l_range=int(input(\"Enter the lower range:\"))\n",
        "u_range=int(input(\"Enter the upper range:\"))\n",
        "a=[(x,x**2) for x in range(l_range,u_range+1)]\n",
        "print(a)"
      ],
      "execution_count": null,
      "outputs": [
        {
          "output_type": "stream",
          "text": [
            "Enter the lower range:3\n",
            "Enter the upper range:60\n",
            "[(3, 9), (4, 16), (5, 25), (6, 36), (7, 49), (8, 64), (9, 81), (10, 100), (11, 121), (12, 144), (13, 169), (14, 196), (15, 225), (16, 256), (17, 289), (18, 324), (19, 361), (20, 400), (21, 441), (22, 484), (23, 529), (24, 576), (25, 625), (26, 676), (27, 729), (28, 784), (29, 841), (30, 900), (31, 961), (32, 1024), (33, 1089), (34, 1156), (35, 1225), (36, 1296), (37, 1369), (38, 1444), (39, 1521), (40, 1600), (41, 1681), (42, 1764), (43, 1849), (44, 1936), (45, 2025), (46, 2116), (47, 2209), (48, 2304), (49, 2401), (50, 2500), (51, 2601), (52, 2704), (53, 2809), (54, 2916), (55, 3025), (56, 3136), (57, 3249), (58, 3364), (59, 3481), (60, 3600)]\n"
          ],
          "name": "stdout"
        }
      ]
    },
    {
      "cell_type": "markdown",
      "metadata": {
        "id": "RrGFlSZMr7R9",
        "colab_type": "text"
      },
      "source": [
        "# Write python program to have a list of words  to sort them from  shortest to longest using list of tuples"
      ]
    },
    {
      "cell_type": "code",
      "metadata": {
        "id": "L73YsDpMvO3g",
        "colab_type": "code",
        "colab": {
          "base_uri": "https://localhost:8080/",
          "height": 34
        },
        "outputId": "9478d7fb-7283-427c-b2e8-0bcc7502ab5a"
      },
      "source": [
        "txt = 'i am a proud indian' \n",
        "words = txt.split()\n",
        "t = list() \n",
        "for word in words: \n",
        "  t.append((len(word), word)) \n",
        "t.sort(reverse=True) \n",
        "\n",
        "res = list() \n",
        "for length, word in t: \n",
        "  res.append(word) \n",
        "\n",
        "print (res) \n"
      ],
      "execution_count": null,
      "outputs": [
        {
          "output_type": "stream",
          "text": [
            "['indian', 'proud', 'am', 'i', 'a']\n"
          ],
          "name": "stdout"
        }
      ]
    },
    {
      "cell_type": "markdown",
      "metadata": {
        "id": "QWbGXBWUwRON",
        "colab_type": "text"
      },
      "source": [
        "#.Write python program to get a list of tuples of Rollno,Name for 5 students through keyboard and sort them Rollno wise ascending order\n",
        "#4.Write python program to get a list of tuples of Rollno,Name for 5 students through keyboard and sort them by Rollno wise descending order\n",
        "#5.Write python program to get a list of tuples of Rollno,Name for 5 students through keyboard and sort them by Name wise ascending order\n",
        "#6.Write python program to get a list of tuples of Rollno,Name for 5 students through keyboard and sort them by Name wise descending order\n"
      ]
    },
    {
      "cell_type": "code",
      "metadata": {
        "id": "raSXutFqwYNs",
        "colab_type": "code",
        "colab": {
          "base_uri": "https://localhost:8080/",
          "height": 221
        },
        "outputId": "55ff4bda-e86d-43af-c9a2-3289b2ad292c"
      },
      "source": [
        "l = []\n",
        "\n",
        "def inp():\n",
        "  name = input('Name : ')\n",
        "  rolno = input(' Rol No : ')\n",
        "  return (name,rolno)  # returns tuples\n",
        "\n",
        "n = int(input('Number of Students : '))\n",
        "for x in range(n):\n",
        "  l.append(inp())\n",
        "\n",
        "print(f'Original : {l}')\n",
        "\n",
        "l.sort(key = lambda x:x[1])\n",
        "print(f'According to Rol No : Ascending :{l}')\n",
        "print(f'According to Rol No : Descending :{l[::-1]}')\n",
        "\n",
        "l.sort(key = lambda x:x[0])\n",
        "print(f'According to Name : Ascending :{l}')\n",
        "print(f'According to Name : Descending :{l[::-1]}')\n",
        "\n",
        "\n",
        "\n"
      ],
      "execution_count": null,
      "outputs": [
        {
          "output_type": "stream",
          "text": [
            "Number of Students : 3\n",
            "Name : swara\n",
            " Rol No : 2\n",
            "Name : isha\n",
            " Rol No : 24\n",
            "Name : arnab\n",
            " Rol No : 1\n",
            "Original : [('swara', '2'), ('isha', '24'), ('arnab', '1')]\n",
            "According to Rol No : Ascending :[('arnab', '1'), ('swara', '2'), ('isha', '24')]\n",
            "According to Rol No : Descending :[('isha', '24'), ('swara', '2'), ('arnab', '1')]\n",
            "According to Name : Ascending :[('arnab', '1'), ('isha', '24'), ('swara', '2')]\n",
            "According to Name : Descending :[('swara', '2'), ('isha', '24'), ('arnab', '1')]\n"
          ],
          "name": "stdout"
        }
      ]
    }
  ]
}