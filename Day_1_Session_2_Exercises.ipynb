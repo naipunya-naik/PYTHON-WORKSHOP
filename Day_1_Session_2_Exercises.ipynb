{
  "nbformat": 4,
  "nbformat_minor": 0,
  "metadata": {
    "colab": {
      "name": "Day 1 Session 2 Exercises",
      "provenance": [],
      "authorship_tag": "ABX9TyPdNZjUyt8V+eNNAQd/6TrW",
      "include_colab_link": true
    },
    "kernelspec": {
      "name": "python3",
      "display_name": "Python 3"
    }
  },
  "cells": [
    {
      "cell_type": "markdown",
      "metadata": {
        "id": "view-in-github",
        "colab_type": "text"
      },
      "source": [
        "<a href=\"https://colab.research.google.com/github/naipunya-naik/PYTHON-WORKSHOP/blob/master/Day_1_Session_2_Exercises.ipynb\" target=\"_parent\"><img src=\"https://colab.research.google.com/assets/colab-badge.svg\" alt=\"Open In Colab\"/></a>"
      ]
    },
    {
      "cell_type": "markdown",
      "metadata": {
        "id": "V-37Twwjr5Ut",
        "colab_type": "text"
      },
      "source": [
        "#Write program to print triangle.\n",
        "\n",
        "\n",
        "\n"
      ]
    },
    {
      "cell_type": "code",
      "metadata": {
        "id": "D34iM-z-txgS",
        "colab_type": "code",
        "colab": {
          "base_uri": "https://localhost:8080/",
          "height": 84
        },
        "outputId": "e19bd7d2-ad14-48d0-a6ae-7100840a6b86"
      },
      "source": [
        "rows = 4\n",
        "for i in range(0, rows):\n",
        "    for j in range(0, i + 1):\n",
        "        print(\"*\", end=' ')\n",
        "\n",
        "    print(\"\\r\")\n"
      ],
      "execution_count": null,
      "outputs": [
        {
          "output_type": "stream",
          "text": [
            "* \r\n",
            "* * \r\n",
            "* * * \r\n",
            "* * * * \r\n"
          ],
          "name": "stdout"
        }
      ]
    },
    {
      "cell_type": "markdown",
      "metadata": {
        "id": "B_2Pk8JSt4_Y",
        "colab_type": "text"
      },
      "source": [
        "#Write program to print triangle."
      ]
    },
    {
      "cell_type": "code",
      "metadata": {
        "id": "0oHHAqX1t9y2",
        "colab_type": "code",
        "colab": {
          "base_uri": "https://localhost:8080/",
          "height": 118
        },
        "outputId": "d5296888-8389-4667-8cc8-690303b338d1"
      },
      "source": [
        "rows = 5\n",
        "for i in range(0, rows + 1):\n",
        "    for j in range(rows - i, 0, -1):\n",
        "        print(j, end=' ')\n",
        "    print()"
      ],
      "execution_count": null,
      "outputs": [
        {
          "output_type": "stream",
          "text": [
            "5 4 3 2 1 \n",
            "4 3 2 1 \n",
            "3 2 1 \n",
            "2 1 \n",
            "1 \n",
            "\n"
          ],
          "name": "stdout"
        }
      ]
    },
    {
      "cell_type": "code",
      "metadata": {
        "id": "LllA0yUF8BR-",
        "colab_type": "code",
        "colab": {}
      },
      "source": [
        ""
      ],
      "execution_count": null,
      "outputs": []
    },
    {
      "cell_type": "markdown",
      "metadata": {
        "id": "onqS-eh3vqvj",
        "colab_type": "text"
      },
      "source": [
        "#Write program to print triangle.\n"
      ]
    },
    {
      "cell_type": "code",
      "metadata": {
        "id": "LEcc60mkv3ZV",
        "colab_type": "code",
        "colab": {
          "base_uri": "https://localhost:8080/",
          "height": 67
        },
        "outputId": "5e60e3ca-135a-4d57-ae2a-c4c2394d2bcd"
      },
      "source": [
        "currentNumber = 1\n",
        "stop = 2\n",
        "rows = 3  # Rows you want in your pattern\n",
        "\n",
        "for i in range(rows):\n",
        "    for column in range(1, stop):\n",
        "        print(currentNumber, end=' ')\n",
        "        currentNumber += 1\n",
        "    print(\"\")\n",
        "    stop += 2\n",
        "    "
      ],
      "execution_count": null,
      "outputs": [
        {
          "output_type": "stream",
          "text": [
            "1 \n",
            "2 3 4 \n",
            "5 6 7 8 9 \n"
          ],
          "name": "stdout"
        }
      ]
    },
    {
      "cell_type": "markdown",
      "metadata": {
        "id": "usBelE25zj1h",
        "colab_type": "text"
      },
      "source": [
        "#Find the length of a string without using len functions."
      ]
    },
    {
      "cell_type": "code",
      "metadata": {
        "id": "iQsJXaqHzl4k",
        "colab_type": "code",
        "colab": {
          "base_uri": "https://localhost:8080/",
          "height": 51
        },
        "outputId": "0260c06e-f80c-4c55-d7a2-c052293f262a"
      },
      "source": [
        "# User inputs the string and it gets stored in variable str\n",
        "str = input(\"Enter a string: \")\n",
        "\n",
        "# counter variable to count the character in a string\n",
        "counter = 0\n",
        "for s in str:\n",
        "      counter = counter+1\n",
        "print(\"Length of the input string is:\", counter)"
      ],
      "execution_count": null,
      "outputs": [
        {
          "output_type": "stream",
          "text": [
            "Enter a string: naipunya naik\n",
            "Length of the input string is: 13\n"
          ],
          "name": "stdout"
        }
      ]
    },
    {
      "cell_type": "markdown",
      "metadata": {
        "id": "jbYgUjQR0jvz",
        "colab_type": "text"
      },
      "source": [
        "#Find the no of words and characters in a string.\n"
      ]
    },
    {
      "cell_type": "code",
      "metadata": {
        "id": "7AT6N1gK0pnF",
        "colab_type": "code",
        "colab": {
          "base_uri": "https://localhost:8080/",
          "height": 68
        },
        "outputId": "7e58eb64-3653-4a76-fd51-e4b42d5be950"
      },
      "source": [
        "word_count = 0\n",
        "char_count = 0\n",
        "\n",
        "usr_input = input(\"Enter a string : \")\n",
        "\n",
        "split_string = usr_input.split()\n",
        "\n",
        "word_count = len(split_string)\n",
        "\n",
        "for word in split_string:\n",
        "    \n",
        "    char_count += len(word)\n",
        "\n",
        "\n",
        "print(\"Total words : {}\".format(word_count))\n",
        "print(\"Total characters : {}\".format(char_count))\n"
      ],
      "execution_count": null,
      "outputs": [
        {
          "output_type": "stream",
          "text": [
            "Enter a string : naipunya\n",
            "Total words : 1\n",
            "Total characters : 8\n"
          ],
          "name": "stdout"
        }
      ]
    },
    {
      "cell_type": "markdown",
      "metadata": {
        "id": "NrHkEyPg2qNG",
        "colab_type": "text"
      },
      "source": [
        "#Find the no of occurrences of a word in a string"
      ]
    },
    {
      "cell_type": "code",
      "metadata": {
        "id": "dknkmyEZ9JT9",
        "colab_type": "code",
        "colab": {}
      },
      "source": [
        ""
      ],
      "execution_count": null,
      "outputs": []
    },
    {
      "cell_type": "code",
      "metadata": {
        "id": "fNdVyFZX2yrF",
        "colab_type": "code",
        "colab": {
          "base_uri": "https://localhost:8080/",
          "height": 34
        },
        "outputId": "587202f0-1671-4d12-a409-241999ff76e3"
      },
      "source": [
        "def word_count(str):\n",
        "    counts = dict()\n",
        "    words = str.split()\n",
        "\n",
        "    for word in words:\n",
        "        if word in counts:\n",
        "            counts[word] += 1\n",
        "        else:\n",
        "            counts[word] = 1\n",
        "\n",
        "    return counts\n",
        "\n",
        "print( word_count('PREVENTION IS BETTER THAN CURE.'))"
      ],
      "execution_count": null,
      "outputs": [
        {
          "output_type": "stream",
          "text": [
            "{'PREVENTION': 1, 'IS': 1, 'BETTER': 1, 'THAN': 1, 'CURE.': 1}\n"
          ],
          "name": "stdout"
        }
      ]
    }
  ]
}