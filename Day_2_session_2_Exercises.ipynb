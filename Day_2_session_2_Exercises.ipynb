{
  "nbformat": 4,
  "nbformat_minor": 0,
  "metadata": {
    "colab": {
      "name": "Day 2 session 2 Exercises",
      "provenance": [],
      "authorship_tag": "ABX9TyPjiy2o/WkA2IewDYzBwFBL",
      "include_colab_link": true
    },
    "kernelspec": {
      "name": "python3",
      "display_name": "Python 3"
    }
  },
  "cells": [
    {
      "cell_type": "markdown",
      "metadata": {
        "id": "view-in-github",
        "colab_type": "text"
      },
      "source": [
        "<a href=\"https://colab.research.google.com/github/naipunya-naik/PYTHON-WORKSHOP/blob/master/Day_2_session_2_Exercises.ipynb\" target=\"_parent\"><img src=\"https://colab.research.google.com/assets/colab-badge.svg\" alt=\"Open In Colab\"/></a>"
      ]
    },
    {
      "cell_type": "markdown",
      "metadata": {
        "id": "VIEos1hSDdO9",
        "colab_type": "text"
      },
      "source": [
        "#1.\tAdd rollno and marks {name:mark} for n number of students through keyboard in a dictionary and print the marks in descending order with respective name."
      ]
    },
    {
      "cell_type": "code",
      "metadata": {
        "id": "9xq_6KOZDiK4",
        "colab_type": "code",
        "colab": {
          "base_uri": "https://localhost:8080/",
          "height": 204
        },
        "outputId": "976e2965-e9b8-4fa1-9751-303b40bcf177"
      },
      "source": [
        "n=int(input(\"Enter no of students\"))\n",
        "d={}\n",
        "for i in range(1,n+1):\n",
        "    name= input(\"Enter name %d\"%(i))\n",
        "    mark=int(input(\"Enter mark %d\"%(i)))\n",
        "    d[name]=mark\n",
        "    print (d)\n",
        "#Use the sorted function and operator module\n",
        "import operator\n",
        "sorted_d = sorted(d.items(), key=operator.itemgetter(1))\n",
        "print(sorted_d)"
      ],
      "execution_count": 1,
      "outputs": [
        {
          "output_type": "stream",
          "text": [
            "Enter no of students3\n",
            "Enter name 1naipu\n",
            "Enter mark 140\n",
            "{'naipu': 40}\n",
            "Enter name 2priya\n",
            "Enter mark 245\n",
            "{'naipu': 40, 'priya': 45}\n",
            "Enter name 3riya\n",
            "Enter mark 363\n",
            "{'naipu': 40, 'priya': 45, 'riya': 63}\n",
            "[('naipu', 40), ('priya', 45), ('riya', 63)]\n"
          ],
          "name": "stdout"
        }
      ]
    },
    {
      "cell_type": "markdown",
      "metadata": {
        "id": "e8qp-uhfEfuw",
        "colab_type": "text"
      },
      "source": [
        "#2.\tAdd  name and salary {name:salary} for n number of employees through keyboard in a dictionary and print them in name alphabetical order with salary"
      ]
    },
    {
      "cell_type": "code",
      "metadata": {
        "colab_type": "code",
        "id": "mM9boRmREpEP",
        "colab": {
          "base_uri": "https://localhost:8080/",
          "height": 204
        },
        "outputId": "1a86b420-d495-430a-804b-0192b434cbfd"
      },
      "source": [
        "n=int(input(\"Enter no of employees\"))\n",
        "d={}\n",
        "for i in range(1,n+1):\n",
        "    name= input(\"Enter name %d\"%(i))\n",
        "    salary=int(input(\"Enter salary %d\"%(i)))\n",
        "    d[name]=salary\n",
        "    print (d)\n",
        "#Use the sorted function and operator module\n",
        "import operator\n",
        "sorted_d = sorted(d.items(), key=operator.itemgetter(1))\n",
        "print(sorted_d)"
      ],
      "execution_count": 4,
      "outputs": [
        {
          "output_type": "stream",
          "text": [
            "Enter no of employees3\n",
            "Enter name 1payal rohatgi\n",
            "Enter salary 13000000\n",
            "{'payal rohatgi': 3000000}\n",
            "Enter name 2kangana ranaut\n",
            "Enter salary 297000000\n",
            "{'payal rohatgi': 3000000, 'kangana ranaut': 97000000}\n",
            "Enter name 3sushant sr\n",
            "Enter salary 37800000\n",
            "{'payal rohatgi': 3000000, 'kangana ranaut': 97000000, 'sushant sr': 7800000}\n",
            "[('payal rohatgi', 3000000), ('sushant sr', 7800000), ('kangana ranaut', 97000000)]\n"
          ],
          "name": "stdout"
        }
      ]
    },
    {
      "cell_type": "markdown",
      "metadata": {
        "id": "Dv8StDMfE_aI",
        "colab_type": "text"
      },
      "source": [
        "#3.\tAdd  name and salary {name:salary} for n number of employees through keyboard in a dictionary and print them in salary  ascending order and  sum, max, min and average of the salaries"
      ]
    },
    {
      "cell_type": "code",
      "metadata": {
        "id": "JK5tx0fkFDyH",
        "colab_type": "code",
        "colab": {
          "base_uri": "https://localhost:8080/",
          "height": 357
        },
        "outputId": "23d27567-8d11-47c2-972a-2dfd841dc075"
      },
      "source": [
        "n=int(input(\"Enter no of employees\"))\n",
        "d={}\n",
        "for i in range(1,n+1):\n",
        "    name= input(\"Enter name %d\"%(i))\n",
        "    salary=int(input(\"Enter salary %d\"%(i)))\n",
        "    d[name]=salary\n",
        "    print (d)\n",
        "    print(\"Total sum of salaries in the dictionary:\")\n",
        "    print(sum(d.values()))\n",
        "    print(\"max salaries  in the dictionary:\")\n",
        "    i=max(d)\n",
        "    print(max(d.values()))\n",
        "    print(\"min salaries in the dictionary:\")\n",
        "    i=min(d)\n",
        "    print(min(d.values()))\n",
        "#Use the sorted function and operator module\n",
        "import operator\n",
        "sorted_d = sorted(d.items(), key=operator.itemgetter(1))\n",
        "print(sorted_d)\n",
        "\n",
        "\n"
      ],
      "execution_count": 8,
      "outputs": [
        {
          "output_type": "stream",
          "text": [
            "Enter no of employees2\n",
            "Enter name 1rashi\n",
            "Enter salary 1990000\n",
            "{'rashi': 990000}\n",
            "Total sum of salaries in the dictionary:\n",
            "990000\n",
            "max salaries  in the dictionary:\n",
            "990000\n",
            "min salaries in the dictionary:\n",
            "990000\n",
            "Enter name 2jigar\n",
            "Enter salary 267888\n",
            "{'rashi': 990000, 'jigar': 67888}\n",
            "Total sum of salaries in the dictionary:\n",
            "1057888\n",
            "max salaries  in the dictionary:\n",
            "990000\n",
            "min salaries in the dictionary:\n",
            "67888\n",
            "[('jigar', 67888), ('rashi', 990000)]\n"
          ],
          "name": "stdout"
        }
      ]
    }
  ]
}