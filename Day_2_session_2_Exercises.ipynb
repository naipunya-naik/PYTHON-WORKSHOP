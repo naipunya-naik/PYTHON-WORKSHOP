{
  "nbformat": 4,
  "nbformat_minor": 0,
  "metadata": {
    "colab": {
      "name": "Day 2 session 2 Exercises",
      "provenance": [],
      "toc_visible": true,
      "authorship_tag": "ABX9TyO2IwCMwsI00e3rdrVs1WWH",
      "include_colab_link": true
    },
    "kernelspec": {
      "name": "python3",
      "display_name": "Python 3"
    }
  },
  "cells": [
    {
      "cell_type": "markdown",
      "metadata": {
        "id": "view-in-github",
        "colab_type": "text"
      },
      "source": [
        "<a href=\"https://colab.research.google.com/github/naipunya-naik/PYTHON-WORKSHOP/blob/master/Day_2_session_2_Exercises.ipynb\" target=\"_parent\"><img src=\"https://colab.research.google.com/assets/colab-badge.svg\" alt=\"Open In Colab\"/></a>"
      ]
    },
    {
      "cell_type": "markdown",
      "metadata": {
        "id": "VIEos1hSDdO9",
        "colab_type": "text"
      },
      "source": [
        "#1.\tAdd rollno and marks {name:mark} for n number of students through keyboard in a dictionary and print the marks in descending order with respective name."
      ]
    },
    {
      "cell_type": "code",
      "metadata": {
        "id": "9xq_6KOZDiK4",
        "colab_type": "code",
        "colab": {
          "base_uri": "https://localhost:8080/",
          "height": 204
        },
        "outputId": "976e2965-e9b8-4fa1-9751-303b40bcf177"
      },
      "source": [
        "n=int(input(\"Enter no of students\"))\n",
        "d={}\n",
        "for i in range(1,n+1):\n",
        "    name= input(\"Enter name %d\"%(i))\n",
        "    mark=int(input(\"Enter mark %d\"%(i)))\n",
        "    d[name]=mark\n",
        "    print (d)\n",
        "#Use the sorted function and operator module\n",
        "import operator\n",
        "sorted_d = sorted(d.items(), key=operator.itemgetter(1))\n",
        "print(sorted_d)"
      ],
      "execution_count": null,
      "outputs": [
        {
          "output_type": "stream",
          "text": [
            "Enter no of students3\n",
            "Enter name 1naipu\n",
            "Enter mark 140\n",
            "{'naipu': 40}\n",
            "Enter name 2priya\n",
            "Enter mark 245\n",
            "{'naipu': 40, 'priya': 45}\n",
            "Enter name 3riya\n",
            "Enter mark 363\n",
            "{'naipu': 40, 'priya': 45, 'riya': 63}\n",
            "[('naipu', 40), ('priya', 45), ('riya', 63)]\n"
          ],
          "name": "stdout"
        }
      ]
    },
    {
      "cell_type": "markdown",
      "metadata": {
        "id": "e8qp-uhfEfuw",
        "colab_type": "text"
      },
      "source": [
        "#2.\tAdd  name and salary {name:salary} for n number of employees through keyboard in a dictionary and print them in name alphabetical order with salary"
      ]
    },
    {
      "cell_type": "code",
      "metadata": {
        "colab_type": "code",
        "id": "mM9boRmREpEP",
        "colab": {
          "base_uri": "https://localhost:8080/",
          "height": 204
        },
        "outputId": "1a86b420-d495-430a-804b-0192b434cbfd"
      },
      "source": [
        "n=int(input(\"Enter no of employees\"))\n",
        "d={}\n",
        "for i in range(1,n+1):\n",
        "    name= input(\"Enter name %d\"%(i))\n",
        "    salary=int(input(\"Enter salary %d\"%(i)))\n",
        "    d[name]=salary\n",
        "    print (d)\n",
        "#Use the sorted function and operator module\n",
        "import operator\n",
        "sorted_d = sorted(d.items(), key=operator.itemgetter(1))\n",
        "print(sorted_d)"
      ],
      "execution_count": null,
      "outputs": [
        {
          "output_type": "stream",
          "text": [
            "Enter no of employees3\n",
            "Enter name 1payal rohatgi\n",
            "Enter salary 13000000\n",
            "{'payal rohatgi': 3000000}\n",
            "Enter name 2kangana ranaut\n",
            "Enter salary 297000000\n",
            "{'payal rohatgi': 3000000, 'kangana ranaut': 97000000}\n",
            "Enter name 3sushant sr\n",
            "Enter salary 37800000\n",
            "{'payal rohatgi': 3000000, 'kangana ranaut': 97000000, 'sushant sr': 7800000}\n",
            "[('payal rohatgi', 3000000), ('sushant sr', 7800000), ('kangana ranaut', 97000000)]\n"
          ],
          "name": "stdout"
        }
      ]
    },
    {
      "cell_type": "markdown",
      "metadata": {
        "id": "Dv8StDMfE_aI",
        "colab_type": "text"
      },
      "source": [
        "#3.\tAdd  name and salary {name:salary} for n number of employees through keyboard in a dictionary and print them in salary  ascending order and  sum, max, min and average of the salaries"
      ]
    },
    {
      "cell_type": "code",
      "metadata": {
        "id": "JK5tx0fkFDyH",
        "colab_type": "code",
        "colab": {
          "base_uri": "https://localhost:8080/",
          "height": 255
        },
        "outputId": "ca89fbef-1d0f-4bc1-9ad0-18daaf39b966"
      },
      "source": [
        "def inp():\n",
        "  name = input('Enter Name : ')\n",
        "  salary = int(input('Enter Salary : '))\n",
        "  \n",
        "  return (name,salary)\n",
        "\n",
        "d = {}\n",
        "n = int(input('Enter No of Employees : '))\n",
        "for x in range(n):\n",
        "  n,s = inp()\n",
        "  d[n] = s\n",
        "\n",
        "keys = sorted(d.keys())\n",
        "\n",
        "print('Ascending Order : ')\n",
        "\n",
        "for key in keys:\n",
        "  print(f'{key} : {d[key]}')\n",
        "\n",
        "\n",
        "print(f'Sum of all Salaries : {sum(list(d.values()))}')\n",
        "print(f'Max Salary : {max(list(d.values()))} \\t\\t Min Salary : {min(list(d.values()))}')\n",
        "print(f'Average Salary: {sum(list(d.values()))/len(list(d.keys()))}')\n",
        "\n"
      ],
      "execution_count": 4,
      "outputs": [
        {
          "output_type": "stream",
          "text": [
            "Enter No of Employees : 3\n",
            "Enter Name : piya\n",
            "Enter Salary : 3000000\n",
            "Enter Name : jiya\n",
            "Enter Salary : 2222000\n",
            "Enter Name : riya\n",
            "Enter Salary : 230000\n",
            "Ascending Order : \n",
            "jiya : 2222000\n",
            "piya : 3000000\n",
            "riya : 230000\n",
            "Sum of all Salaries : 5452000\n",
            "Max Salary : 3000000 \t\t Min Salary : 230000\n",
            "Average Salary: 1817333.3333333333\n"
          ],
          "name": "stdout"
        }
      ]
    },
    {
      "cell_type": "markdown",
      "metadata": {
        "id": "fYD1gjcEdkmy",
        "colab_type": "text"
      },
      "source": [
        "\n",
        "#Add name and salary {name:salary} for n number of employees through keyboard in a dictionary and print only the employees whose salary is greater than 2000 but less than 4000"
      ]
    },
    {
      "cell_type": "code",
      "metadata": {
        "id": "ZKR7WbvYdqMb",
        "colab_type": "code",
        "colab": {
          "base_uri": "https://localhost:8080/",
          "height": 153
        },
        "outputId": "0f0a2f15-117c-4f19-ee96-47530b4da068"
      },
      "source": [
        "def inp():\n",
        "  name = input('Enter Name : ')\n",
        "  salary = int(input('Enter Salary : '))\n",
        "  if 2000 < salary < 4000: \n",
        "    return (name,salary)\n",
        "  return None\n",
        "\n",
        "d = {}\n",
        "n = int(input('Enter No of Employees : '))\n",
        "for x in range(n):\n",
        "  k = inp()\n",
        "  if k != None:\n",
        "    d[k[0]] = k[1]\n",
        "  \n",
        "print(d)"
      ],
      "execution_count": 10,
      "outputs": [
        {
          "output_type": "stream",
          "text": [
            "Enter No of Employees : 3\n",
            "Enter Name : rashi\n",
            "Enter Salary : 2300\n",
            "Enter Name : jigar\n",
            "Enter Salary : 4500\n",
            "Enter Name : ahem\n",
            "Enter Salary : 2200\n",
            "{'rashi': 2300, 'ahem': 2200}\n"
          ],
          "name": "stdout"
        }
      ]
    },
    {
      "cell_type": "markdown",
      "metadata": {
        "id": "kmb0zpzIehI8",
        "colab_type": "text"
      },
      "source": [
        "#Python program to convert a 3 digit number into words"
      ]
    },
    {
      "cell_type": "code",
      "metadata": {
        "id": "__ME-UR3eur7",
        "colab_type": "code",
        "colab": {
          "base_uri": "https://localhost:8080/",
          "height": 85
        },
        "outputId": "1c06d1f8-a0e7-4b18-9e25-845472c86edd"
      },
      "source": [
        "\n",
        "d = {1:'One',2:'Two',3:'Three',4:'Four',5:'Five',6:'Six',7:'Seven',8:'Eight',9:'Nine'}\n",
        "d2 = {1:'Ten',2:'Twenty',3:'Thirty',4:'Forty',5:'Fifty',6:'Sixty',7:'Seventy',8:'Eighty',9:'Ninty'}\n",
        "d3 = {2:'Tens',3:'Hundred',4:'Thousands'} \n",
        "\n",
        "i = int(input('Enter The Number : '))\n",
        "a = len(str(i))\n",
        "j = int(str(i)[0])\n",
        "if j !=0 :\n",
        "  s = d[j]\n",
        "s = s + ' ' + d3[a]\n",
        "i = int(str(i)[1:])\n",
        "print(s,i)\n",
        "\n",
        "\n",
        "j = int(str(i)[0])\n",
        "if j !=0:\n",
        "  #s = s + ' ' + d2[j]\n",
        "  if len(str(i))>1:\n",
        "    i = int(str(i)[1:])\n",
        "  else:\n",
        "    i = int(str(i)[0:])\n",
        "print(s,i)\n",
        "\n",
        "\n",
        "\n",
        "if i!=0:\n",
        "  s = s + ' ' + d[i]\n",
        "print(s)"
      ],
      "execution_count": 13,
      "outputs": [
        {
          "output_type": "stream",
          "text": [
            "Enter The Number : 300\n",
            "Three Hundred 0\n",
            "Three Hundred 0\n",
            "Three Hundred\n"
          ],
          "name": "stdout"
        }
      ]
    },
    {
      "cell_type": "markdown",
      "metadata": {
        "id": "JGuEA07-fLNh",
        "colab_type": "text"
      },
      "source": [
        "#1.Python Program to count the total number of characters (except blank space) in a text file."
      ]
    },
    {
      "cell_type": "code",
      "metadata": {
        "id": "A-VwJXbTfdSB",
        "colab_type": "code",
        "colab": {
          "base_uri": "https://localhost:8080/",
          "height": 34
        },
        "outputId": "05ff3e7b-8dda-4bdc-bf5f-176053b377fe"
      },
      "source": [
        "path = '/content/sample_data/newfile.txt'\n",
        "with open(path,'r')as file:\n",
        "  totchar = 0\n",
        "  reader = file.read()\n",
        "  for line in reader:\n",
        "    if line != ' ':\n",
        "      totchar += 1\n",
        "  print(f'Total no of characters : {totchar}')"
      ],
      "execution_count": 16,
      "outputs": [
        {
          "output_type": "stream",
          "text": [
            "Total no of characters : 11\n"
          ],
          "name": "stdout"
        }
      ]
    },
    {
      "cell_type": "markdown",
      "metadata": {
        "id": "dbJFWMlwf6IO",
        "colab_type": "text"
      },
      "source": [
        "#2.Python Program to print all the numbers present in a text file with its total number of occurrence."
      ]
    },
    {
      "cell_type": "code",
      "metadata": {
        "id": "VzGkkAjwf-yx",
        "colab_type": "code",
        "colab": {
          "base_uri": "https://localhost:8080/",
          "height": 51
        },
        "outputId": "70d4e00d-b378-4b39-994b-b7b56fef02ae"
      },
      "source": [
        "path = '/content/sample_data/newfile2.txt'\n",
        "with open(path,'r')as file:\n",
        "  totchar = 0\n",
        "  reader = file.readlines()\n",
        "  numbers = []\n",
        "  for line in reader:\n",
        "    for word in line:\n",
        "      if word.isnumeric():\n",
        "        numbers.append(int(word))\n",
        "\n",
        "  print(f'All numbers : {numbers}')\n",
        "  collection = {}\n",
        "  for number in numbers:\n",
        "    if number not in collection.keys():\n",
        "      collection[number] = 1\n",
        "    else:\n",
        "      collection[number] += 1\n",
        "  print(f'Total Occurrence : {collection}')\n"
      ],
      "execution_count": 18,
      "outputs": [
        {
          "output_type": "stream",
          "text": [
            "All numbers : [2, 1, 1, 2, 0, 0, 0]\n",
            "Total Occurrence : {2: 2, 1: 2, 0: 3}\n"
          ],
          "name": "stdout"
        }
      ]
    },
    {
      "cell_type": "markdown",
      "metadata": {
        "id": "060rxaHFgtef",
        "colab_type": "text"
      },
      "source": [
        "#3.Python Program to append the contents of one file to another file "
      ]
    },
    {
      "cell_type": "code",
      "metadata": {
        "id": "EaFS3snYgy2N",
        "colab_type": "code",
        "colab": {
          "base_uri": "https://localhost:8080/",
          "height": 214
        },
        "outputId": "278e6e3e-b74a-4f74-8f08-f14086b62a34"
      },
      "source": [
        "path = '/content/sample_data/newfile.txt' # for Reading Only!\n",
        "path2 = '/content/sample_data/newfile2.txt' # for Writing Only!\n",
        "with open(path,'r')as file:\n",
        "  reader = file.readlines()\n",
        "  with open(path2,'w') as file2: # writing to file2\n",
        "    for line in reader:\n",
        "      file2.write(line) \n",
        "\n",
        "with open(path2,'r') as file2:   #Reopening file2 to check \n",
        "  reader = file2.readlines()\n",
        "  for i in range(10):\n",
        "    print(reader[i])"
      ],
      "execution_count": 22,
      "outputs": [
        {
          "output_type": "stream",
          "text": [
            "i am naipunya\n"
          ],
          "name": "stdout"
        },
        {
          "output_type": "error",
          "ename": "IndexError",
          "evalue": "ignored",
          "traceback": [
            "\u001b[0;31m---------------------------------------------------------------------------\u001b[0m",
            "\u001b[0;31mIndexError\u001b[0m                                Traceback (most recent call last)",
            "\u001b[0;32m<ipython-input-22-820aa2fcf822>\u001b[0m in \u001b[0;36m<module>\u001b[0;34m()\u001b[0m\n\u001b[1;32m     10\u001b[0m   \u001b[0mreader\u001b[0m \u001b[0;34m=\u001b[0m \u001b[0mfile2\u001b[0m\u001b[0;34m.\u001b[0m\u001b[0mreadlines\u001b[0m\u001b[0;34m(\u001b[0m\u001b[0;34m)\u001b[0m\u001b[0;34m\u001b[0m\u001b[0;34m\u001b[0m\u001b[0m\n\u001b[1;32m     11\u001b[0m   \u001b[0;32mfor\u001b[0m \u001b[0mi\u001b[0m \u001b[0;32min\u001b[0m \u001b[0mrange\u001b[0m\u001b[0;34m(\u001b[0m\u001b[0;36m10\u001b[0m\u001b[0;34m)\u001b[0m\u001b[0;34m:\u001b[0m\u001b[0;34m\u001b[0m\u001b[0;34m\u001b[0m\u001b[0m\n\u001b[0;32m---> 12\u001b[0;31m     \u001b[0mprint\u001b[0m\u001b[0;34m(\u001b[0m\u001b[0mreader\u001b[0m\u001b[0;34m[\u001b[0m\u001b[0mi\u001b[0m\u001b[0;34m]\u001b[0m\u001b[0;34m)\u001b[0m\u001b[0;34m\u001b[0m\u001b[0;34m\u001b[0m\u001b[0m\n\u001b[0m",
            "\u001b[0;31mIndexError\u001b[0m: list index out of range"
          ]
        }
      ]
    },
    {
      "cell_type": "markdown",
      "metadata": {
        "id": "d63qghmQhM_K",
        "colab_type": "text"
      },
      "source": [
        "#4.Python Program to count the number of blank spaces in a text file. "
      ]
    },
    {
      "cell_type": "code",
      "metadata": {
        "id": "DBjbdUBghTwY",
        "colab_type": "code",
        "colab": {
          "base_uri": "https://localhost:8080/",
          "height": 34
        },
        "outputId": "6b533838-c837-4785-822f-0dc1098eb58e"
      },
      "source": [
        "path = '/content/sample_data/newfile2.txt'\n",
        "with open(path,'r')as file:\n",
        "  totspace = 0\n",
        "  reader = file.read()\n",
        "  for line in reader:\n",
        "    if line == ' ':\n",
        "      totspace += 1\n",
        "  print(f'Total no of Spaces : {totspace}')"
      ],
      "execution_count": 23,
      "outputs": [
        {
          "output_type": "stream",
          "text": [
            "Total no of Spaces : 3\n"
          ],
          "name": "stdout"
        }
      ]
    },
    {
      "cell_type": "markdown",
      "metadata": {
        "id": "j83wQxbPhfQr",
        "colab_type": "text"
      },
      "source": [
        "#5.Python Program to read a file and capitalize the first letter of every word in the file and copy the every word capitalized content  into another file and read it ."
      ]
    },
    {
      "cell_type": "code",
      "metadata": {
        "id": "LvbXB5jHhlUU",
        "colab_type": "code",
        "colab": {
          "base_uri": "https://localhost:8080/",
          "height": 214
        },
        "outputId": "3198cb00-c409-4552-edd0-9b9db7b6912f"
      },
      "source": [
        "path = '/content/sample_data/newfile2.txt' # for Reading Only!\n",
        "path2 = '/content/sample_data/newfile2.txt' # for Writing Only!\n",
        "with open(path,'r')as file:\n",
        "  reader = file.readlines()\n",
        "  with open(path2,'w') as file2: \n",
        "    for line in reader:\n",
        "      modline = ''\n",
        "      wordlist = []\n",
        "      \n",
        "      wordlist.append(line.title())\n",
        "      modline = modline.join(wordlist)\n",
        "      \n",
        "      file2.write(modline)       # writing to file2\n",
        "\n",
        "with open(path2,'r') as file2:   #Reopening file2 to check \n",
        "  reader = file2.readlines()\n",
        "  for i in range(10):\n",
        "    print(reader[i])"
      ],
      "execution_count": 24,
      "outputs": [
        {
          "output_type": "stream",
          "text": [
            "I Am Naipunya 2112000\n"
          ],
          "name": "stdout"
        },
        {
          "output_type": "error",
          "ename": "IndexError",
          "evalue": "ignored",
          "traceback": [
            "\u001b[0;31m---------------------------------------------------------------------------\u001b[0m",
            "\u001b[0;31mIndexError\u001b[0m                                Traceback (most recent call last)",
            "\u001b[0;32m<ipython-input-24-1aa8a23547e2>\u001b[0m in \u001b[0;36m<module>\u001b[0;34m()\u001b[0m\n\u001b[1;32m     16\u001b[0m   \u001b[0mreader\u001b[0m \u001b[0;34m=\u001b[0m \u001b[0mfile2\u001b[0m\u001b[0;34m.\u001b[0m\u001b[0mreadlines\u001b[0m\u001b[0;34m(\u001b[0m\u001b[0;34m)\u001b[0m\u001b[0;34m\u001b[0m\u001b[0;34m\u001b[0m\u001b[0m\n\u001b[1;32m     17\u001b[0m   \u001b[0;32mfor\u001b[0m \u001b[0mi\u001b[0m \u001b[0;32min\u001b[0m \u001b[0mrange\u001b[0m\u001b[0;34m(\u001b[0m\u001b[0;36m10\u001b[0m\u001b[0;34m)\u001b[0m\u001b[0;34m:\u001b[0m\u001b[0;34m\u001b[0m\u001b[0;34m\u001b[0m\u001b[0m\n\u001b[0;32m---> 18\u001b[0;31m     \u001b[0mprint\u001b[0m\u001b[0;34m(\u001b[0m\u001b[0mreader\u001b[0m\u001b[0;34m[\u001b[0m\u001b[0mi\u001b[0m\u001b[0;34m]\u001b[0m\u001b[0;34m)\u001b[0m\u001b[0;34m\u001b[0m\u001b[0;34m\u001b[0m\u001b[0m\n\u001b[0m",
            "\u001b[0;31mIndexError\u001b[0m: list index out of range"
          ]
        }
      ]
    }
  ]
}