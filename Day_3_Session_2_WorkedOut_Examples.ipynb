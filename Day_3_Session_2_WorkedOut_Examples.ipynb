{
  "nbformat": 4,
  "nbformat_minor": 0,
  "metadata": {
    "colab": {
      "name": "Day 3 Session 2 WorkedOut Examples",
      "provenance": [],
      "authorship_tag": "ABX9TyMj4s6d+E0rkHk/CBSXak3G",
      "include_colab_link": true
    },
    "kernelspec": {
      "name": "python3",
      "display_name": "Python 3"
    }
  },
  "cells": [
    {
      "cell_type": "markdown",
      "metadata": {
        "id": "view-in-github",
        "colab_type": "text"
      },
      "source": [
        "<a href=\"https://colab.research.google.com/github/naipunya-naik/PYTHON-WORKSHOP/blob/master/Day_3_Session_2_WorkedOut_Examples.ipynb\" target=\"_parent\"><img src=\"https://colab.research.google.com/assets/colab-badge.svg\" alt=\"Open In Colab\"/></a>"
      ]
    },
    {
      "cell_type": "markdown",
      "metadata": {
        "id": "1MKXEJ6uBLW1",
        "colab_type": "text"
      },
      "source": [
        "#Finding the factorial of a number"
      ]
    },
    {
      "cell_type": "code",
      "metadata": {
        "id": "F4MBXp7HBPF3",
        "colab_type": "code",
        "colab": {
          "base_uri": "https://localhost:8080/",
          "height": 68
        },
        "outputId": "d9d61c07-81a3-4fed-c1de-d6d10ac2b480"
      },
      "source": [
        "#Python Program to find the factorial of a number using loop.\n",
        "n=int(input(\"Enter number:\"))\n",
        "fact=1\n",
        "while(n>0):\n",
        "          fact=fact*n\n",
        "          n=n-1\n",
        "print(\"Factorial of the number is: \")\n",
        "print(fact)"
      ],
      "execution_count": 2,
      "outputs": [
        {
          "output_type": "stream",
          "text": [
            "Enter number:4\n",
            "Factorial of the number is: \n",
            "24\n"
          ],
          "name": "stdout"
        }
      ]
    },
    {
      "cell_type": "markdown",
      "metadata": {
        "id": "LRqWS52vBb3R",
        "colab_type": "text"
      },
      "source": [
        "#Program for multiples of 2 of a list without list comprehension"
      ]
    },
    {
      "cell_type": "code",
      "metadata": {
        "id": "zntWfmYhBhgB",
        "colab_type": "code",
        "colab": {
          "base_uri": "https://localhost:8080/",
          "height": 34
        },
        "outputId": "cc40c84b-fb23-4106-a65d-6718917c952f"
      },
      "source": [
        "x=[1, 2, 3, 4, 5, 6]\n",
        "result = []\n",
        "for idx in range(len(x)):\n",
        "                        result.append(x[idx] * 2)\n",
        "print(result)"
      ],
      "execution_count": 3,
      "outputs": [
        {
          "output_type": "stream",
          "text": [
            "[2, 4, 6, 8, 10, 12]\n"
          ],
          "name": "stdout"
        }
      ]
    },
    {
      "cell_type": "markdown",
      "metadata": {
        "id": "MO_4GA9aBmvv",
        "colab_type": "text"
      },
      "source": [
        "#More Pythonic program of 3 lines!"
      ]
    },
    {
      "cell_type": "code",
      "metadata": {
        "id": "7HB_lmfLBt6Q",
        "colab_type": "code",
        "colab": {
          "base_uri": "https://localhost:8080/",
          "height": 51
        },
        "outputId": "057f082e-a6c8-4b24-fdd7-25fec1da740f"
      },
      "source": [
        "from functools import reduce\n",
        "sequences = [x for x in range(1,int(input('Enter no'))+1)]\n",
        "product = reduce(lambda x, y: x*y, sequences)\n",
        "print(product)"
      ],
      "execution_count": 4,
      "outputs": [
        {
          "output_type": "stream",
          "text": [
            "Enter no3\n",
            "6\n"
          ],
          "name": "stdout"
        }
      ]
    },
    {
      "cell_type": "markdown",
      "metadata": {
        "id": "8TSua8nHBy05",
        "colab_type": "text"
      },
      "source": [
        "#Number and its square as Tuple for a range"
      ]
    },
    {
      "cell_type": "code",
      "metadata": {
        "id": "xFgj3N_2B2sc",
        "colab_type": "code",
        "colab": {
          "base_uri": "https://localhost:8080/",
          "height": 68
        },
        "outputId": "36558fa2-4464-4544-dd95-21c5d3dfea50"
      },
      "source": [
        "l_range=int(input(\"Enter the lower range:\"))\n",
        "u_range=int(input(\"Enter the upper range:\"))\n",
        "a=[(x,x**2) for x in range(l_range,u_range+1)]\n",
        "print(a)"
      ],
      "execution_count": 5,
      "outputs": [
        {
          "output_type": "stream",
          "text": [
            "Enter the lower range:2\n",
            "Enter the upper range:10\n",
            "[(2, 4), (3, 9), (4, 16), (5, 25), (6, 36), (7, 49), (8, 64), (9, 81), (10, 100)]\n"
          ],
          "name": "stdout"
        }
      ]
    },
    {
      "cell_type": "markdown",
      "metadata": {
        "id": "Rup97N6NB9JL",
        "colab_type": "text"
      },
      "source": [
        "#More Pythonic program of 2 lines!"
      ]
    },
    {
      "cell_type": "code",
      "metadata": {
        "id": "MM1RvaIRCCHj",
        "colab_type": "code",
        "colab": {
          "base_uri": "https://localhost:8080/",
          "height": 68
        },
        "outputId": "fef4ac8f-d67a-49bb-8603-f95f46e0b0a9"
      },
      "source": [
        "print([(x,x**2) for x in range(int(input(\"Enter the lower range:\")),\\\n",
        "int(input(\"Enter the upper range:\"))+1)])"
      ],
      "execution_count": 6,
      "outputs": [
        {
          "output_type": "stream",
          "text": [
            "Enter the lower range:2\n",
            "Enter the upper range:10\n",
            "[(2, 4), (3, 9), (4, 16), (5, 25), (6, 36), (7, 49), (8, 64), (9, 81), (10, 100)]\n"
          ],
          "name": "stdout"
        }
      ]
    },
    {
      "cell_type": "markdown",
      "metadata": {
        "id": "Ftfk1t3TCNd7",
        "colab_type": "text"
      },
      "source": [
        "#Finding the perfect squares"
      ]
    },
    {
      "cell_type": "code",
      "metadata": {
        "id": "q4FgKOmkCPnv",
        "colab_type": "code",
        "colab": {
          "base_uri": "https://localhost:8080/",
          "height": 34
        },
        "outputId": "b3992dd9-33cf-4da5-e3e4-540c3f3f333e"
      },
      "source": [
        "from math import *\n",
        "sequences = [10,2,8,7,5,4,3,11,0,9,16,1]\n",
        "result=[]\n",
        "for i in sequences:\n",
        "                  if int(sqrt(i))**2==i:\n",
        "                      result.append(i)\n",
        "print(result)"
      ],
      "execution_count": 9,
      "outputs": [
        {
          "output_type": "stream",
          "text": [
            "[4, 0, 9, 16, 1]\n"
          ],
          "name": "stdout"
        }
      ]
    },
    {
      "cell_type": "markdown",
      "metadata": {
        "id": "nZ2q5qp5GAiN",
        "colab_type": "text"
      },
      "source": [
        "#Pythonic program of 3 lines!"
      ]
    },
    {
      "cell_type": "code",
      "metadata": {
        "id": "OvL3NUV1GGHZ",
        "colab_type": "code",
        "colab": {
          "base_uri": "https://localhost:8080/",
          "height": 34
        },
        "outputId": "7a533f6a-25e2-4dc1-b539-c1991af5c635"
      },
      "source": [
        "sequences = [10,2,8,7,5,4,3,11,0,9,16,1]\n",
        "filtered_result = filter(lambda x: int(sqrt(x))**2==x, sequences)\n",
        "print(list(filtered_result))"
      ],
      "execution_count": 10,
      "outputs": [
        {
          "output_type": "stream",
          "text": [
            "[4, 0, 9, 16, 1]\n"
          ],
          "name": "stdout"
        }
      ]
    },
    {
      "cell_type": "markdown",
      "metadata": {
        "id": "3OvEM5p0GR9C",
        "colab_type": "text"
      },
      "source": [
        "#Program to find large number in a list"
      ]
    },
    {
      "cell_type": "code",
      "metadata": {
        "id": "olFADHh5Gckd",
        "colab_type": "code",
        "colab": {
          "base_uri": "https://localhost:8080/",
          "height": 221
        },
        "outputId": "32cefd55-2eb2-45d2-b312-dc62211054e5"
      },
      "source": [
        "a=[]\n",
        "n=int(input(\"Enter number of elements:\"))\n",
        "for i in range(1,n+1):\n",
        "                      b=int(input(\"Enter element:\"))\n",
        "                      a.append(b)\n",
        "a.sort()\n",
        "print(\"Largest element is:\",a[n-1])"
      ],
      "execution_count": 12,
      "outputs": [
        {
          "output_type": "stream",
          "text": [
            "Enter number of elements:10\n",
            "Enter element:3\n",
            "Enter element:4\n",
            "Enter element:2\n",
            "Enter element:8\n",
            "Enter element:4\n",
            "Enter element:35\n",
            "Enter element:87\n",
            "Enter element:77\n",
            "Enter element:98\n",
            "Enter element:55\n",
            "Largest element is: 98\n"
          ],
          "name": "stdout"
        }
      ]
    },
    {
      "cell_type": "markdown",
      "metadata": {
        "id": "sPRgMCckGuWc",
        "colab_type": "text"
      },
      "source": [
        "#Try this More pythonic 2 lines program equivalent to above codings as shown below !"
      ]
    },
    {
      "cell_type": "code",
      "metadata": {
        "id": "Vx0A7BEIGzSx",
        "colab_type": "code",
        "colab": {
          "base_uri": "https://localhost:8080/",
          "height": 255
        },
        "outputId": "a867f4a1-c6d3-418e-d0f0-6ab189bf9ab7"
      },
      "source": [
        "x=0\n",
        "print('The greatest no is',max([int(input(x)) for _ in range(int(input(\"Enter no\")))]))"
      ],
      "execution_count": 13,
      "outputs": [
        {
          "output_type": "stream",
          "text": [
            "Enter no12\n",
            "34\n",
            "67\n",
            "34\n",
            "22\n",
            "22\n",
            "123\n",
            "55\n",
            "46\n",
            "32\n",
            "52\n",
            "87\n",
            "99\n",
            "The greatest no is 123\n"
          ],
          "name": "stdout"
        }
      ]
    },
    {
      "cell_type": "markdown",
      "metadata": {
        "id": "xxvl7b0jH89O",
        "colab_type": "text"
      },
      "source": [
        "#Program to put the even and odd elements in a list into two different lists.\n"
      ]
    },
    {
      "cell_type": "code",
      "metadata": {
        "id": "cFLJMRHpIFnc",
        "colab_type": "code",
        "colab": {}
      },
      "source": [
        "a=[]\n",
        "n=int(input(\"Enter number of elements:\"))\n",
        "for i in range(1,n+1):\n",
        "    b=int(input(\"Enter element:\"))\n",
        "    a.append(b)\n",
        "even=[]\n",
        "odd=[]\n",
        "for j in a:\n",
        "    if(j%2==0):\n",
        "        even.append(j)\n",
        "    else:\n",
        "        odd.append(j)\n",
        "print(\"The even list\",even)\n",
        "print(\"The odd list\",odd)\n"
      ],
      "execution_count": null,
      "outputs": []
    },
    {
      "cell_type": "markdown",
      "metadata": {
        "id": "eWpDfBT1IKiY",
        "colab_type": "text"
      },
      "source": [
        "#Instead of forementioned 14 lines program, the equivalent 4 lines !"
      ]
    },
    {
      "cell_type": "code",
      "metadata": {
        "id": "4Y-faJYkIUU3",
        "colab_type": "code",
        "colab": {
          "base_uri": "https://localhost:8080/",
          "height": 102
        },
        "outputId": "563d7bef-8952-41a0-caef-c4a3cf8b538c"
      },
      "source": [
        "x=0\n",
        "l=[int(input(x)) for _ in range(int(input(\"Enter n\")))]\n",
        "print('odd list is',[ i for i in l if i%2])\n",
        "print('even list is',[i for i in l if not i%2])"
      ],
      "execution_count": 15,
      "outputs": [
        {
          "output_type": "stream",
          "text": [
            "Enter n2\n",
            "34\n",
            "43\n",
            "odd list is [43]\n",
            "even list is [34]\n"
          ],
          "name": "stdout"
        }
      ]
    },
    {
      "cell_type": "markdown",
      "metadata": {
        "id": "2gah2WaIQaVZ",
        "colab_type": "text"
      },
      "source": [
        "#Python Program to merge two lists and sort it."
      ]
    },
    {
      "cell_type": "code",
      "metadata": {
        "id": "qWgHh8UcQgZ7",
        "colab_type": "code",
        "colab": {
          "base_uri": "https://localhost:8080/",
          "height": 153
        },
        "outputId": "3db0cf63-dc47-4d35-ec7c-8855cd41a284"
      },
      "source": [
        "a=[]\n",
        "c=[]\n",
        "n1=int(input(\"Enter number of elements:\"))\n",
        "for i in range(1,n1+1):\n",
        "                      b=int(input(\"Enter element:\"))\n",
        "                      a.append(b)\n",
        "n2=int(input(\"Enter number of elements:\"))\n",
        "for i in range(1,n2+1):\n",
        "                      d=int(input(\"Enter element:\"))\n",
        "                      c.append(d)\n",
        "new=a+c\n",
        "new.sort()\n",
        "print(\"Sorted list is:\",new)"
      ],
      "execution_count": 19,
      "outputs": [
        {
          "output_type": "stream",
          "text": [
            "Enter number of elements:2\n",
            "Enter element:334\n",
            "Enter element:223\n",
            "Enter number of elements:3\n",
            "Enter element:123\n",
            "Enter element:242\n",
            "Enter element:222\n",
            "Sorted list is: [123, 222, 223, 242, 334]\n"
          ],
          "name": "stdout"
        }
      ]
    },
    {
      "cell_type": "markdown",
      "metadata": {
        "id": "NmD3LgYyQzpa",
        "colab_type": "text"
      },
      "source": [
        "#Instead of forementioned 13 lines program, the equivalent 5 lines !"
      ]
    },
    {
      "cell_type": "code",
      "metadata": {
        "id": "GN2_uFHZQ1RE",
        "colab_type": "code",
        "colab": {
          "base_uri": "https://localhost:8080/",
          "height": 136
        },
        "outputId": "79828fb9-8d71-41bb-97d8-0c722c1ce380"
      },
      "source": [
        "x=0\n",
        "l=[int(input(x)) for _ in range(int(input(\"Enter how many elements\")))]\n",
        "m=[int(input(x)) for _ in range(int(input(\"Enter how many elements \")))]\n",
        "new=l+m\n",
        "new.sort()\n",
        "print(\"Sorted list is:\",new)"
      ],
      "execution_count": 20,
      "outputs": [
        {
          "output_type": "stream",
          "text": [
            "Enter how many elements2\n",
            "234\n",
            "245\n",
            "Enter how many elements 2\n",
            "134\n",
            "244\n",
            "Sorted list is: [134, 234, 244, 245]\n"
          ],
          "name": "stdout"
        }
      ]
    },
    {
      "cell_type": "markdown",
      "metadata": {
        "id": "ZcAVtxVpRFcv",
        "colab_type": "text"
      },
      "source": [
        "#Program for printing list of values with indexing"
      ]
    },
    {
      "cell_type": "code",
      "metadata": {
        "id": "cFBk4KmMSxKU",
        "colab_type": "code",
        "colab": {
          "base_uri": "https://localhost:8080/",
          "height": 221
        },
        "outputId": "7c6f2d13-c7bd-41c8-abef-218e4f176129"
      },
      "source": [
        "names = ['Jan','Feb','Mar','Apr','May','Jun','Jul','Aug','Sep','Oct','Nov','Dec']\n",
        "index=0\n",
        "for i in names:\n",
        "              print(str(index)+\":\"+i)\n",
        "index=index+1"
      ],
      "execution_count": 22,
      "outputs": [
        {
          "output_type": "stream",
          "text": [
            "0:Jan\n",
            "0:Feb\n",
            "0:Mar\n",
            "0:Apr\n",
            "0:May\n",
            "0:Jun\n",
            "0:Jul\n",
            "0:Aug\n",
            "0:Sep\n",
            "0:Oct\n",
            "0:Nov\n",
            "0:Dec\n"
          ],
          "name": "stdout"
        }
      ]
    },
    {
      "cell_type": "markdown",
      "metadata": {
        "id": "BUaaKEGgS7Vo",
        "colab_type": "text"
      },
      "source": [
        "#using Pythonic way using enumerate()!"
      ]
    },
    {
      "cell_type": "code",
      "metadata": {
        "id": "s4Iuxi37S_JD",
        "colab_type": "code",
        "colab": {
          "base_uri": "https://localhost:8080/",
          "height": 221
        },
        "outputId": "b05b5f8e-f561-467b-e676-bb1df3ce1289"
      },
      "source": [
        "names = ['Jan','Feb','Mar','Apr','May','Jun','Jul','Aug','Sep','Oct','Nov','Dec']\n",
        "for index, value in enumerate(names):\n",
        "                                    print(f'{index+1}: {value}')"
      ],
      "execution_count": 24,
      "outputs": [
        {
          "output_type": "stream",
          "text": [
            "1: Jan\n",
            "2: Feb\n",
            "3: Mar\n",
            "4: Apr\n",
            "5: May\n",
            "6: Jun\n",
            "7: Jul\n",
            "8: Aug\n",
            "9: Sep\n",
            "10: Oct\n",
            "11: Nov\n",
            "12: Dec\n"
          ],
          "name": "stdout"
        }
      ]
    }
  ]
}